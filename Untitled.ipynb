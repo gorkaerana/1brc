{
 "cells": [
  {
   "cell_type": "code",
   "execution_count": 13,
   "id": "16c7fde6-9d17-440d-8e0d-848088629c55",
   "metadata": {},
   "outputs": [],
   "source": [
    "from concurrent.futures import ProcessPoolExecutor\n",
    "from itertools import islice\n",
    "import mmap\n",
    "import os\n",
    "from pathlib import Path\n",
    "\n",
    "import polars as pl\n",
    "\n",
    "import src.main.python.utils"
   ]
  },
  {
   "cell_type": "code",
   "execution_count": 14,
   "id": "5f20454a-e167-4457-a133-c2593f7c806b",
   "metadata": {},
   "outputs": [],
   "source": [
    "# Hooray for local Python imports\n",
    "pretty_print_solution = src.main.python.utils.pretty_print_solution\n",
    "update_in_place = src.main.python.utils.update_in_place\n",
    "batch_indices = src.main.python.utils.batch_indices\n",
    "process_batch = src.main.python.utils.process_batch\n",
    "consolidate_accumulators = src.main.python.utils.consolidate_accumulators\n",
    "process_batch_from_indices = src.main.python.utils.process_batch_from_indices\n",
    "process_batch_from_indices_mmap = src.main.python.utils.process_batch_from_indices_mmap\n",
    "Accumulator = src.main.python.utils.Accumulator\n",
    "PathLike = src.main.python.utils.PathLike"
   ]
  },
  {
   "cell_type": "code",
   "execution_count": 3,
   "id": "9da81197-d91b-4cc4-b74b-4e145c64797e",
   "metadata": {},
   "outputs": [],
   "source": [
    "here = Path(os.path.abspath(\"\")).resolve()\n",
    "data_dir = here / \"data\"\n",
    "n_lines = 1_000_000\n",
    "data_path = data_dir / f\"measurements_{n_lines}.txt\"\n",
    "data_path = data_dir / \"measurements.txt\""
   ]
  },
  {
   "cell_type": "markdown",
   "id": "2cc5ae89-aa36-43ab-836c-db7530c6e1e6",
   "metadata": {},
   "source": [
    "# How fast can we iterate through the file?"
   ]
  },
  {
   "cell_type": "markdown",
   "id": "d055f79f-a619-42f5-977e-4761d20cf043",
   "metadata": {},
   "source": [
    "Execution times on real data set:\n",
    "- 2min 21s\n",
    "- 1min 18s"
   ]
  },
  {
   "cell_type": "code",
   "execution_count": 4,
   "id": "18f73c3c-2a33-4d4e-90c4-2df482ec0272",
   "metadata": {},
   "outputs": [
    {
     "name": "stdout",
     "output_type": "stream",
     "text": [
      "CPU times: user 83.9 ms, sys: 37.1 ms, total: 121 ms\n",
      "Wall time: 125 ms\n"
     ]
    }
   ],
   "source": [
    "%%time\n",
    "with open(data_path) as fp:\n",
    "    for line in fp:\n",
    "        pass"
   ]
  },
  {
   "cell_type": "code",
   "execution_count": 5,
   "id": "4b34f7e3-7a21-4d47-a15b-aeeaa84dae0e",
   "metadata": {},
   "outputs": [
    {
     "name": "stdout",
     "output_type": "stream",
     "text": [
      "CPU times: user 46.2 ms, sys: 0 ns, total: 46.2 ms\n",
      "Wall time: 53.4 ms\n"
     ]
    }
   ],
   "source": [
    "%%time\n",
    "with open(data_path, \"r+b\") as fp, mmap.mmap(fp.fileno(), 0) as mm:\n",
    "    while (line := mm.readline()):\n",
    "        pass"
   ]
  },
  {
   "cell_type": "markdown",
   "id": "985c207f-b1d2-4ec1-a9a8-7266ad84ae5b",
   "metadata": {},
   "source": [
    "# Polars"
   ]
  },
  {
   "cell_type": "markdown",
   "id": "acb3d359-4bc9-4534-9b1f-cedeec557f93",
   "metadata": {},
   "source": [
    "Execution times on real data set:\n",
    "- 53.7s"
   ]
  },
  {
   "cell_type": "code",
   "execution_count": 6,
   "id": "10b1b403-2af0-4a00-a02b-bd52ef5efe1b",
   "metadata": {},
   "outputs": [
    {
     "name": "stdout",
     "output_type": "stream",
     "text": [
      "CPU times: user 295 ms, sys: 89.9 ms, total: 385 ms\n",
      "Wall time: 83.6 ms\n"
     ]
    }
   ],
   "source": [
    "%%time\n",
    "records = (\n",
    "    pl.scan_csv(data_path, has_header=False, separator=\";\", new_columns=[\"station\", \"temperature\"])\n",
    "    .group_by(\"station\")\n",
    "    .agg(\n",
    "        pl.col(\"temperature\").min().name.suffix(\"_min\"),\n",
    "        pl.col(\"temperature\").mean().name.suffix(\"_avg\"), \n",
    "        pl.col(\"temperature\").max().name.suffix(\"_max\")\n",
    "    )\n",
    "    .sort(pl.col(\"station\"))\n",
    "    .collect(streaming=True)\n",
    "    .to_dicts()\n",
    ")\n",
    "#pretty_print_solution({d[\"station\"]: [d[\"temperature_min\"], d[\"temperature_avg\"], d[\"temperature_max\"], 1] for d in records})"
   ]
  },
  {
   "cell_type": "markdown",
   "id": "c2b0c0d1-00d5-46aa-8090-8c6efa60605f",
   "metadata": {},
   "source": [
    "# Naive solution"
   ]
  },
  {
   "cell_type": "markdown",
   "id": "d60ec1f1-450d-4455-9ef7-8372fba8606b",
   "metadata": {},
   "source": [
    "Execution times on real data set:\n",
    "- 15min 4s\n",
    "- 15min 57s"
   ]
  },
  {
   "cell_type": "code",
   "execution_count": 7,
   "id": "94bdc301-14f6-462e-bc9a-5803de1cd21d",
   "metadata": {},
   "outputs": [
    {
     "name": "stdout",
     "output_type": "stream",
     "text": [
      "CPU times: user 530 ms, sys: 13.6 ms, total: 544 ms\n",
      "Wall time: 585 ms\n"
     ]
    }
   ],
   "source": [
    "%%time\n",
    "d = {}  # station_name => [min, avg, max, count]\n",
    "with open(data_path, \"rb\") as fp:\n",
    "    for line in fp:\n",
    "        update_in_place(line, d)\n",
    "# pretty_print_solution(d)"
   ]
  },
  {
   "cell_type": "code",
   "execution_count": 8,
   "id": "3c91558b-28af-40a0-bbd1-90fcaf6063d0",
   "metadata": {},
   "outputs": [
    {
     "name": "stdout",
     "output_type": "stream",
     "text": [
      "CPU times: user 485 ms, sys: 0 ns, total: 485 ms\n",
      "Wall time: 524 ms\n"
     ]
    }
   ],
   "source": [
    "%%time\n",
    "d = {}  # station_name => [min, avg, max, count]\n",
    "with open(data_path, \"r+b\") as fp, mmap.mmap(fp.fileno(), 0) as mm:\n",
    "    while (line := mm.readline()):\n",
    "        update_in_place(line, d)\n",
    "# pretty_print_solution(d)"
   ]
  },
  {
   "cell_type": "markdown",
   "id": "5a91d100-49f0-4e64-8476-5d18450e604d",
   "metadata": {},
   "source": [
    "# Batching"
   ]
  },
  {
   "cell_type": "markdown",
   "id": "1e65cb4f-8f45-4f02-ace5-ee392b674454",
   "metadata": {},
   "source": [
    "Execution time in real data set:\n",
    "- 13min 9s"
   ]
  },
  {
   "cell_type": "code",
   "execution_count": 9,
   "id": "4a7caf92-854c-44ed-b53b-3134daa01b9f",
   "metadata": {},
   "outputs": [
    {
     "name": "stdout",
     "output_type": "stream",
     "text": [
      "CPU times: user 548 ms, sys: 10.2 ms, total: 559 ms\n",
      "Wall time: 604 ms\n"
     ]
    }
   ],
   "source": [
    "%%time\n",
    "from typing import Iterator\n",
    "\n",
    "\n",
    "def iter_process_batches(filepath: PathLike, indices: tuple[int]) -> Iterator[Accumulator]:\n",
    "    with open(filepath, \"rb\") as fp:\n",
    "        for start, end in zip(indices, indices[1:]):\n",
    "            fp.seek(start)\n",
    "            yield process_batch(fp.read(end - start))\n",
    "\n",
    "indices = batch_indices(data_path, 8)\n",
    "consolidated = consolidate_accumulators(iter_process_batches(data_path, indices))\n",
    "# pretty_print_solution(consolidated)"
   ]
  },
  {
   "cell_type": "markdown",
   "id": "079e0d2c-ebd0-4f9a-bb8d-b203bad7dcde",
   "metadata": {},
   "source": [
    "# Parallelization"
   ]
  },
  {
   "cell_type": "code",
   "execution_count": 5,
   "id": "f6a8c664-764b-4c57-b37c-4445562f3512",
   "metadata": {},
   "outputs": [],
   "source": [
    "def batched(iterable, n):\n",
    "    # batched('ABCDEFG', 3) --> ABC DEF G\n",
    "    if n < 1:\n",
    "        raise ValueError('n must be at least one')\n",
    "    it = iter(iterable)\n",
    "    while batch := tuple(islice(it, n)):\n",
    "        yield batch"
   ]
  },
  {
   "cell_type": "markdown",
   "id": "27b9798c-ea22-4c36-b4c8-7070037e3714",
   "metadata": {},
   "source": [
    "Execution time on real dataset:\n",
    "- 3min 48s"
   ]
  },
  {
   "cell_type": "code",
   "execution_count": 11,
   "id": "6d7ce39a-34e9-4d88-86a5-16166bce17c4",
   "metadata": {},
   "outputs": [
    {
     "name": "stdout",
     "output_type": "stream",
     "text": [
      "CPU times: user 23.5 s, sys: 2.41 s, total: 25.9 s\n",
      "Wall time: 3min 50s\n"
     ]
    }
   ],
   "source": [
    "%%time\n",
    "indices = batch_indices(data_path, 1500)\n",
    "index_tuples = zip(indices, indices[1:])\n",
    "results = []\n",
    "n_workers = 10\n",
    "with ProcessPoolExecutor(max_workers=n_workers) as executor:\n",
    "    for i, index_batch in enumerate(batched(index_tuples, n_workers)):\n",
    "        # if i > 0: break\n",
    "        result = executor.map(\n",
    "            process_batch_from_indices,\n",
    "            [(data_path, start, end) for start, end in index_batch],\n",
    "        )\n",
    "        results.extend(result)\n",
    "final_result = consolidate_accumulators(results)\n",
    "# pretty_print_solution(final_result)"
   ]
  },
  {
   "cell_type": "markdown",
   "id": "9edfc220-ae8a-4cc4-a52a-4555e51609e6",
   "metadata": {},
   "source": [
    "Execution time on real dataset:\n",
    "- 3min 48s"
   ]
  },
  {
   "cell_type": "code",
   "execution_count": 23,
   "id": "79a59e74-9c2c-4c2e-91ff-f7b99f4cbd26",
   "metadata": {},
   "outputs": [
    {
     "name": "stdout",
     "output_type": "stream",
     "text": [
      "b'Roki\\xc5\\xa1kis;37.7\\n'\n",
      "b'Roki\\xc5\\xa1kis;'\n"
     ]
    }
   ],
   "source": [
    "import mmap\n",
    "\n",
    "with open(data_path, \"r+b\") as fp, mmap.mmap(fp.fileno(), offset=0, length=15) as mm:\n",
    "    print(mm.read())\n",
    "    print(mm[:10])"
   ]
  },
  {
   "cell_type": "code",
   "execution_count": 15,
   "id": "e62c76c8-fe55-4352-8ed3-e876bb74be0c",
   "metadata": {},
   "outputs": [
    {
     "ename": "PermissionError",
     "evalue": "[Errno 13] Permission denied",
     "output_type": "error",
     "traceback": [
      "\u001b[0;31m---------------------------------------------------------------------------\u001b[0m",
      "\u001b[0;31m_RemoteTraceback\u001b[0m                          Traceback (most recent call last)",
      "\u001b[0;31m_RemoteTraceback\u001b[0m: \n\"\"\"\nTraceback (most recent call last):\n  File \"/usr/lib/python3.10/concurrent/futures/process.py\", line 246, in _process_worker\n    r = call_item.fn(*call_item.args, **call_item.kwargs)\n  File \"/usr/lib/python3.10/concurrent/futures/process.py\", line 205, in _process_chunk\n    return [fn(*args) for args in chunk]\n  File \"/usr/lib/python3.10/concurrent/futures/process.py\", line 205, in <listcomp>\n    return [fn(*args) for args in chunk]\n  File \"/home/gorka/dev/1brc/src/main/python/utils.py\", line 85, in process_batch_from_indices_mmap\n    with (\nPermissionError: [Errno 13] Permission denied\n\"\"\"",
      "\nThe above exception was the direct cause of the following exception:\n",
      "\u001b[0;31mPermissionError\u001b[0m                           Traceback (most recent call last)",
      "Cell \u001b[0;32mIn[15], line 12\u001b[0m\n\u001b[1;32m      6\u001b[0m     \u001b[38;5;28;01mfor\u001b[39;00m i, index_batch \u001b[38;5;129;01min\u001b[39;00m \u001b[38;5;28menumerate\u001b[39m(batched(index_tuples, n_workers)):\n\u001b[1;32m      7\u001b[0m         \u001b[38;5;66;03m# if i > 0: break\u001b[39;00m\n\u001b[1;32m      8\u001b[0m         result \u001b[38;5;241m=\u001b[39m executor\u001b[38;5;241m.\u001b[39mmap(\n\u001b[1;32m      9\u001b[0m             process_batch_from_indices_mmap,\n\u001b[1;32m     10\u001b[0m             [(data_path, start, end) \u001b[38;5;28;01mfor\u001b[39;00m start, end \u001b[38;5;129;01min\u001b[39;00m index_batch],\n\u001b[1;32m     11\u001b[0m         )\n\u001b[0;32m---> 12\u001b[0m         \u001b[43mresults\u001b[49m\u001b[38;5;241;43m.\u001b[39;49m\u001b[43mextend\u001b[49m\u001b[43m(\u001b[49m\u001b[43mresult\u001b[49m\u001b[43m)\u001b[49m\n\u001b[1;32m     13\u001b[0m final_result \u001b[38;5;241m=\u001b[39m consolidate_accumulators(results)\n\u001b[1;32m     14\u001b[0m \u001b[38;5;66;03m# pretty_print_solution(final_result)\u001b[39;00m\n",
      "File \u001b[0;32m/usr/lib/python3.10/concurrent/futures/process.py:575\u001b[0m, in \u001b[0;36m_chain_from_iterable_of_lists\u001b[0;34m(iterable)\u001b[0m\n\u001b[1;32m    569\u001b[0m \u001b[38;5;28;01mdef\u001b[39;00m \u001b[38;5;21m_chain_from_iterable_of_lists\u001b[39m(iterable):\n\u001b[1;32m    570\u001b[0m \u001b[38;5;250m    \u001b[39m\u001b[38;5;124;03m\"\"\"\u001b[39;00m\n\u001b[1;32m    571\u001b[0m \u001b[38;5;124;03m    Specialized implementation of itertools.chain.from_iterable.\u001b[39;00m\n\u001b[1;32m    572\u001b[0m \u001b[38;5;124;03m    Each item in *iterable* should be a list.  This function is\u001b[39;00m\n\u001b[1;32m    573\u001b[0m \u001b[38;5;124;03m    careful not to keep references to yielded objects.\u001b[39;00m\n\u001b[1;32m    574\u001b[0m \u001b[38;5;124;03m    \"\"\"\u001b[39;00m\n\u001b[0;32m--> 575\u001b[0m     \u001b[38;5;28;01mfor\u001b[39;00m element \u001b[38;5;129;01min\u001b[39;00m iterable:\n\u001b[1;32m    576\u001b[0m         element\u001b[38;5;241m.\u001b[39mreverse()\n\u001b[1;32m    577\u001b[0m         \u001b[38;5;28;01mwhile\u001b[39;00m element:\n",
      "File \u001b[0;32m/usr/lib/python3.10/concurrent/futures/_base.py:621\u001b[0m, in \u001b[0;36mExecutor.map.<locals>.result_iterator\u001b[0;34m()\u001b[0m\n\u001b[1;32m    618\u001b[0m \u001b[38;5;28;01mwhile\u001b[39;00m fs:\n\u001b[1;32m    619\u001b[0m     \u001b[38;5;66;03m# Careful not to keep a reference to the popped future\u001b[39;00m\n\u001b[1;32m    620\u001b[0m     \u001b[38;5;28;01mif\u001b[39;00m timeout \u001b[38;5;129;01mis\u001b[39;00m \u001b[38;5;28;01mNone\u001b[39;00m:\n\u001b[0;32m--> 621\u001b[0m         \u001b[38;5;28;01myield\u001b[39;00m \u001b[43m_result_or_cancel\u001b[49m\u001b[43m(\u001b[49m\u001b[43mfs\u001b[49m\u001b[38;5;241;43m.\u001b[39;49m\u001b[43mpop\u001b[49m\u001b[43m(\u001b[49m\u001b[43m)\u001b[49m\u001b[43m)\u001b[49m\n\u001b[1;32m    622\u001b[0m     \u001b[38;5;28;01melse\u001b[39;00m:\n\u001b[1;32m    623\u001b[0m         \u001b[38;5;28;01myield\u001b[39;00m _result_or_cancel(fs\u001b[38;5;241m.\u001b[39mpop(), end_time \u001b[38;5;241m-\u001b[39m time\u001b[38;5;241m.\u001b[39mmonotonic())\n",
      "File \u001b[0;32m/usr/lib/python3.10/concurrent/futures/_base.py:319\u001b[0m, in \u001b[0;36m_result_or_cancel\u001b[0;34m(***failed resolving arguments***)\u001b[0m\n\u001b[1;32m    317\u001b[0m \u001b[38;5;28;01mtry\u001b[39;00m:\n\u001b[1;32m    318\u001b[0m     \u001b[38;5;28;01mtry\u001b[39;00m:\n\u001b[0;32m--> 319\u001b[0m         \u001b[38;5;28;01mreturn\u001b[39;00m \u001b[43mfut\u001b[49m\u001b[38;5;241;43m.\u001b[39;49m\u001b[43mresult\u001b[49m\u001b[43m(\u001b[49m\u001b[43mtimeout\u001b[49m\u001b[43m)\u001b[49m\n\u001b[1;32m    320\u001b[0m     \u001b[38;5;28;01mfinally\u001b[39;00m:\n\u001b[1;32m    321\u001b[0m         fut\u001b[38;5;241m.\u001b[39mcancel()\n",
      "File \u001b[0;32m/usr/lib/python3.10/concurrent/futures/_base.py:458\u001b[0m, in \u001b[0;36mFuture.result\u001b[0;34m(self, timeout)\u001b[0m\n\u001b[1;32m    456\u001b[0m     \u001b[38;5;28;01mraise\u001b[39;00m CancelledError()\n\u001b[1;32m    457\u001b[0m \u001b[38;5;28;01melif\u001b[39;00m \u001b[38;5;28mself\u001b[39m\u001b[38;5;241m.\u001b[39m_state \u001b[38;5;241m==\u001b[39m FINISHED:\n\u001b[0;32m--> 458\u001b[0m     \u001b[38;5;28;01mreturn\u001b[39;00m \u001b[38;5;28;43mself\u001b[39;49m\u001b[38;5;241;43m.\u001b[39;49m\u001b[43m__get_result\u001b[49m\u001b[43m(\u001b[49m\u001b[43m)\u001b[49m\n\u001b[1;32m    459\u001b[0m \u001b[38;5;28;01melse\u001b[39;00m:\n\u001b[1;32m    460\u001b[0m     \u001b[38;5;28;01mraise\u001b[39;00m \u001b[38;5;167;01mTimeoutError\u001b[39;00m()\n",
      "File \u001b[0;32m/usr/lib/python3.10/concurrent/futures/_base.py:403\u001b[0m, in \u001b[0;36mFuture.__get_result\u001b[0;34m(self)\u001b[0m\n\u001b[1;32m    401\u001b[0m \u001b[38;5;28;01mif\u001b[39;00m \u001b[38;5;28mself\u001b[39m\u001b[38;5;241m.\u001b[39m_exception:\n\u001b[1;32m    402\u001b[0m     \u001b[38;5;28;01mtry\u001b[39;00m:\n\u001b[0;32m--> 403\u001b[0m         \u001b[38;5;28;01mraise\u001b[39;00m \u001b[38;5;28mself\u001b[39m\u001b[38;5;241m.\u001b[39m_exception\n\u001b[1;32m    404\u001b[0m     \u001b[38;5;28;01mfinally\u001b[39;00m:\n\u001b[1;32m    405\u001b[0m         \u001b[38;5;66;03m# Break a reference cycle with the exception in self._exception\u001b[39;00m\n\u001b[1;32m    406\u001b[0m         \u001b[38;5;28mself\u001b[39m \u001b[38;5;241m=\u001b[39m \u001b[38;5;28;01mNone\u001b[39;00m\n",
      "\u001b[0;31mPermissionError\u001b[0m: [Errno 13] Permission denied"
     ]
    }
   ],
   "source": [
    "indices = batch_indices(data_path, 1500)\n",
    "index_tuples = zip(indices, indices[1:])\n",
    "results = []\n",
    "n_workers = 10\n",
    "with ProcessPoolExecutor(max_workers=n_workers) as executor:\n",
    "    for i, index_batch in enumerate(batched(index_tuples, n_workers)):\n",
    "        # if i > 0: break\n",
    "        result = executor.map(\n",
    "            process_batch_from_indices_mmap,\n",
    "            [(data_path, start, end) for start, end in index_batch],\n",
    "        )\n",
    "        results.extend(result)\n",
    "final_result = consolidate_accumulators(results)\n",
    "# pretty_print_solution(final_result)"
   ]
  }
 ],
 "metadata": {
  "kernelspec": {
   "display_name": "Python 3 (ipykernel)",
   "language": "python",
   "name": "python3"
  },
  "language_info": {
   "codemirror_mode": {
    "name": "ipython",
    "version": 3
   },
   "file_extension": ".py",
   "mimetype": "text/x-python",
   "name": "python",
   "nbconvert_exporter": "python",
   "pygments_lexer": "ipython3",
   "version": "3.10.12"
  }
 },
 "nbformat": 4,
 "nbformat_minor": 5
}
