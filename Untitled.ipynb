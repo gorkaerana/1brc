{
 "cells": [
  {
   "cell_type": "code",
   "execution_count": 1,
   "id": "16c7fde6-9d17-440d-8e0d-848088629c55",
   "metadata": {},
   "outputs": [],
   "source": [
    "import mmap\n",
    "import os\n",
    "from pathlib import Path\n",
    "\n",
    "import polars as pl\n",
    "\n",
    "import src.main.python.utils"
   ]
  },
  {
   "cell_type": "code",
   "execution_count": 2,
   "id": "5f20454a-e167-4457-a133-c2593f7c806b",
   "metadata": {},
   "outputs": [],
   "source": [
    "# Hooray for local Python imports\n",
    "pretty_print_solution = src.main.python.utils.pretty_print_solution\n",
    "update_in_place = src.main.python.utils.update_in_place\n",
    "batch_indices = src.main.python.utils.batch_indices\n",
    "process_batch = src.main.python.utils.process_batch\n",
    "consolidate_accumulators = src.main.python.utils.consolidate_accumulators\n",
    "process_batch_from_indices = src.main.python.utils.process_batch_from_indices\n",
    "Accumulator = src.main.python.utils.Accumulator\n",
    "PathLike = src.main.python.utils.PathLike"
   ]
  },
  {
   "cell_type": "code",
   "execution_count": 3,
   "id": "9da81197-d91b-4cc4-b74b-4e145c64797e",
   "metadata": {},
   "outputs": [],
   "source": [
    "here = Path(os.path.abspath(\"\")).resolve()\n",
    "data_dir = here / \"data\"\n",
    "n_lines = 1_000_000\n",
    "data_path = data_dir / f\"measurements_{n_lines}.txt\"\n",
    "# data_path = data_dir / \"measurements.txt\""
   ]
  },
  {
   "cell_type": "markdown",
   "id": "2cc5ae89-aa36-43ab-836c-db7530c6e1e6",
   "metadata": {},
   "source": [
    "# How fast can we iterate through the file?"
   ]
  },
  {
   "cell_type": "markdown",
   "id": "d055f79f-a619-42f5-977e-4761d20cf043",
   "metadata": {},
   "source": [
    "Execution times on real data set:\n",
    "- 2min 21s\n",
    "- 1min 18s"
   ]
  },
  {
   "cell_type": "code",
   "execution_count": 4,
   "id": "18f73c3c-2a33-4d4e-90c4-2df482ec0272",
   "metadata": {},
   "outputs": [
    {
     "name": "stdout",
     "output_type": "stream",
     "text": [
      "CPU times: user 83.9 ms, sys: 37.1 ms, total: 121 ms\n",
      "Wall time: 125 ms\n"
     ]
    }
   ],
   "source": [
    "%%time\n",
    "with open(data_path) as fp:\n",
    "    for line in fp:\n",
    "        pass"
   ]
  },
  {
   "cell_type": "code",
   "execution_count": 5,
   "id": "4b34f7e3-7a21-4d47-a15b-aeeaa84dae0e",
   "metadata": {},
   "outputs": [
    {
     "name": "stdout",
     "output_type": "stream",
     "text": [
      "CPU times: user 46.2 ms, sys: 0 ns, total: 46.2 ms\n",
      "Wall time: 53.4 ms\n"
     ]
    }
   ],
   "source": [
    "%%time\n",
    "with open(data_path, \"r+b\") as fp, mmap.mmap(fp.fileno(), 0) as mm:\n",
    "    while (line := mm.readline()):\n",
    "        pass"
   ]
  },
  {
   "cell_type": "markdown",
   "id": "985c207f-b1d2-4ec1-a9a8-7266ad84ae5b",
   "metadata": {},
   "source": [
    "# Polars"
   ]
  },
  {
   "cell_type": "markdown",
   "id": "acb3d359-4bc9-4534-9b1f-cedeec557f93",
   "metadata": {},
   "source": [
    "Execution times on real data set:\n",
    "- 53.7s"
   ]
  },
  {
   "cell_type": "code",
   "execution_count": 6,
   "id": "10b1b403-2af0-4a00-a02b-bd52ef5efe1b",
   "metadata": {},
   "outputs": [
    {
     "name": "stdout",
     "output_type": "stream",
     "text": [
      "CPU times: user 295 ms, sys: 89.9 ms, total: 385 ms\n",
      "Wall time: 83.6 ms\n"
     ]
    }
   ],
   "source": [
    "%%time\n",
    "records = (\n",
    "    pl.scan_csv(data_path, has_header=False, separator=\";\", new_columns=[\"station\", \"temperature\"])\n",
    "    .group_by(\"station\")\n",
    "    .agg(\n",
    "        pl.col(\"temperature\").min().name.suffix(\"_min\"),\n",
    "        pl.col(\"temperature\").mean().name.suffix(\"_avg\"), \n",
    "        pl.col(\"temperature\").max().name.suffix(\"_max\")\n",
    "    )\n",
    "    .sort(pl.col(\"station\"))\n",
    "    .collect(streaming=True)\n",
    "    .to_dicts()\n",
    ")\n",
    "#pretty_print_solution({d[\"station\"]: [d[\"temperature_min\"], d[\"temperature_avg\"], d[\"temperature_max\"], 1] for d in records})"
   ]
  },
  {
   "cell_type": "markdown",
   "id": "c2b0c0d1-00d5-46aa-8090-8c6efa60605f",
   "metadata": {},
   "source": [
    "# Naive solution"
   ]
  },
  {
   "cell_type": "markdown",
   "id": "d60ec1f1-450d-4455-9ef7-8372fba8606b",
   "metadata": {},
   "source": [
    "Execution times on real data set:\n",
    "- 15min 4s\n",
    "- 15min 57s"
   ]
  },
  {
   "cell_type": "code",
   "execution_count": 7,
   "id": "94bdc301-14f6-462e-bc9a-5803de1cd21d",
   "metadata": {},
   "outputs": [
    {
     "name": "stdout",
     "output_type": "stream",
     "text": [
      "CPU times: user 530 ms, sys: 13.6 ms, total: 544 ms\n",
      "Wall time: 585 ms\n"
     ]
    }
   ],
   "source": [
    "%%time\n",
    "d = {}  # station_name => [min, avg, max, count]\n",
    "with open(data_path, \"rb\") as fp:\n",
    "    for line in fp:\n",
    "        update_in_place(line, d)\n",
    "# pretty_print_solution(d)"
   ]
  },
  {
   "cell_type": "code",
   "execution_count": 8,
   "id": "3c91558b-28af-40a0-bbd1-90fcaf6063d0",
   "metadata": {},
   "outputs": [
    {
     "name": "stdout",
     "output_type": "stream",
     "text": [
      "CPU times: user 485 ms, sys: 0 ns, total: 485 ms\n",
      "Wall time: 524 ms\n"
     ]
    }
   ],
   "source": [
    "%%time\n",
    "d = {}  # station_name => [min, avg, max, count]\n",
    "with open(data_path, \"r+b\") as fp, mmap.mmap(fp.fileno(), 0) as mm:\n",
    "    while (line := mm.readline()):\n",
    "        update_in_place(line, d)\n",
    "# pretty_print_solution(d)"
   ]
  },
  {
   "cell_type": "markdown",
   "id": "5a91d100-49f0-4e64-8476-5d18450e604d",
   "metadata": {},
   "source": [
    "# Batching"
   ]
  },
  {
   "cell_type": "markdown",
   "id": "1e65cb4f-8f45-4f02-ace5-ee392b674454",
   "metadata": {},
   "source": [
    "Execution time in real data set:\n",
    "- 13min 9s"
   ]
  },
  {
   "cell_type": "code",
   "execution_count": 9,
   "id": "4a7caf92-854c-44ed-b53b-3134daa01b9f",
   "metadata": {},
   "outputs": [
    {
     "name": "stdout",
     "output_type": "stream",
     "text": [
      "CPU times: user 548 ms, sys: 10.2 ms, total: 559 ms\n",
      "Wall time: 604 ms\n"
     ]
    }
   ],
   "source": [
    "%%time\n",
    "from typing import Iterator\n",
    "\n",
    "\n",
    "def iter_process_batches(filepath: PathLike, indices: tuple[int]) -> Iterator[Accumulator]:\n",
    "    with open(filepath, \"rb\") as fp:\n",
    "        for start, end in zip(indices, indices[1:]):\n",
    "            fp.seek(start)\n",
    "            yield process_batch(fp.read(end - start))\n",
    "\n",
    "indices = batch_indices(data_path, 8)\n",
    "consolidated = consolidate_accumulators(iter_process_batches(data_path, indices))\n",
    "# pretty_print_solution(consolidated)"
   ]
  },
  {
   "cell_type": "markdown",
   "id": "079e0d2c-ebd0-4f9a-bb8d-b203bad7dcde",
   "metadata": {},
   "source": [
    "# Parallelization"
   ]
  },
  {
   "cell_type": "markdown",
   "id": "27b9798c-ea22-4c36-b4c8-7070037e3714",
   "metadata": {},
   "source": [
    "Execution time on real dataset:\n",
    "- 14min 2s"
   ]
  },
  {
   "cell_type": "code",
   "execution_count": 10,
   "id": "6d7ce39a-34e9-4d88-86a5-16166bce17c4",
   "metadata": {},
   "outputs": [
    {
     "ename": "NameError",
     "evalue": "name 'ProcessPoolExecutor' is not defined",
     "output_type": "error",
     "traceback": [
      "\u001b[0;31m---------------------------------------------------------------------------\u001b[0m",
      "\u001b[0;31mNameError\u001b[0m                                 Traceback (most recent call last)",
      "File \u001b[0;32m<timed exec>:3\u001b[0m\n",
      "\u001b[0;31mNameError\u001b[0m: name 'ProcessPoolExecutor' is not defined"
     ]
    }
   ],
   "source": [
    "%%time\n",
    "if __name__ == \"__main__\":\n",
    "    indices = batch_indices(data_path, 8)\n",
    "    with ProcessPoolExecutor(max_workers=8) as executor:\n",
    "        results = executor.map(\n",
    "            process_batch_from_indices, \n",
    "            [(data_path, start, end) for start, end in zip(indices, indices[1:])]\n",
    "        )\n",
    "    result = consolidate_accumulators(*results)\n",
    "    # pretty_print_solution(result)"
   ]
  }
 ],
 "metadata": {
  "kernelspec": {
   "display_name": "Python 3 (ipykernel)",
   "language": "python",
   "name": "python3"
  },
  "language_info": {
   "codemirror_mode": {
    "name": "ipython",
    "version": 3
   },
   "file_extension": ".py",
   "mimetype": "text/x-python",
   "name": "python",
   "nbconvert_exporter": "python",
   "pygments_lexer": "ipython3",
   "version": "3.10.6"
  }
 },
 "nbformat": 4,
 "nbformat_minor": 5
}
